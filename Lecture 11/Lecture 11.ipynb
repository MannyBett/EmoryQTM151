{
 "cells": [
  {
   "attachments": {},
   "cell_type": "markdown",
   "metadata": {},
   "source": [
    "# <span style=\"color:darkblue\"> Lecture 11: Application 1 - Linear Regression </span>\n",
    "\n",
    "<font size = \"5\">\n",
    "\n",
    "We will fit statistical models to data\n",
    "\n",
    "- I will give an intro with minimal stats background\n",
    "- See the optional lecture file for advanced users\n",
    "\n",
    "The primary goal is to practice previous commands"
   ]
  },
  {
   "attachments": {},
   "cell_type": "markdown",
   "metadata": {},
   "source": [
    "# <span style=\"color:darkblue\"> I. Import Libraries </span>\n"
   ]
  },
  {
   "cell_type": "code",
   "execution_count": 1,
   "metadata": {},
   "outputs": [],
   "source": [
    "# The \"pandas\" library is used for processing datasets\n",
    "# The \"numpy\" is for numeric observations and random numbers\n",
    "# The \"matplotlib.pyplot\" library is for creating graphs\n",
    "\n",
    "import pandas as pd\n",
    "import numpy as np\n",
    "import matplotlib.pyplot as mat"
   ]
  },
  {
   "attachments": {},
   "cell_type": "markdown",
   "metadata": {},
   "source": [
    "<font size = \"5\">\n",
    "\n",
    "Install the \"statsmodels\" library\n",
    "- Run \"pip3 install statsmodels\" in the terminal\n",
    "- Automatically included in Anaconda"
   ]
  },
  {
   "cell_type": "code",
   "execution_count": 2,
   "metadata": {},
   "outputs": [],
   "source": [
    "# We will \"alias\" two sublibraries in \"statsmodels\"\n",
    "# \"statsmodels.formula.api\" contains functions to estimate models\n",
    "# \"statsmodels.api\" contains general-use statistical options\n",
    "\n",
    "import statsmodels.api as sm\n",
    "import statsmodels.formula.api as smf\n"
   ]
  },
  {
   "attachments": {},
   "cell_type": "markdown",
   "metadata": {},
   "source": [
    "# <span style=\"color:darkblue\"> II. Generate simulated Data </span>\n",
    "\n",
    "<font size = \"5\">\n",
    "\n",
    "Create an empty dataset"
   ]
  },
  {
   "cell_type": "code",
   "execution_count": 3,
   "metadata": {},
   "outputs": [],
   "source": [
    "dataset = pd.DataFrame([])"
   ]
  },
  {
   "attachments": {},
   "cell_type": "markdown",
   "metadata": {},
   "source": [
    "<font size = \"5\">\n",
    "\n",
    "Create two random variables of size ($n = 50$)"
   ]
  },
  {
   "cell_type": "code",
   "execution_count": 4,
   "metadata": {},
   "outputs": [],
   "source": [
    "n = 50\n",
    "dataset[\"x\"] = np.random.normal(loc = 0,scale = 1, size = n)\n",
    "dataset[\"e\"] = np.random.normal(loc = 0,scale = 1, size = n)\n"
   ]
  },
  {
   "attachments": {},
   "cell_type": "markdown",
   "metadata": {},
   "source": [
    "<font size = \"5\">\n",
    "\n",
    "Create data from the linear model\n",
    "\n",
    "$ y = b_0 + b_1 x + e, \\qquad b_0 = 1, b_1 = 2.$"
   ]
  },
  {
   "cell_type": "code",
   "execution_count": 5,
   "metadata": {},
   "outputs": [],
   "source": [
    "# The number b0 is known as the \"intercept\"\n",
    "# The number b1 is known as the \"slope\"\n",
    "\n",
    "b0 = 1\n",
    "b1 = 2\n",
    "\n",
    "# We can compute formulas directly over dataset columns\n",
    "dataset[\"y\"] = b0 + b1 * dataset[\"x\"] + dataset[\"e\"]"
   ]
  },
  {
   "attachments": {},
   "cell_type": "markdown",
   "metadata": {},
   "source": [
    "<font size = \"5\">\n",
    "\n",
    "Compute the theoretically best fit line\n",
    "\n",
    "$ p = b_0 + b_1 x$"
   ]
  },
  {
   "cell_type": "code",
   "execution_count": 6,
   "metadata": {},
   "outputs": [],
   "source": [
    "dataset[\"p\"] = b0 + b1*dataset[\"x\"]"
   ]
  },
  {
   "attachments": {},
   "cell_type": "markdown",
   "metadata": {},
   "source": [
    "<font size = \"5\">\n",
    "\n",
    "Plot the data"
   ]
  },
  {
   "cell_type": "code",
   "execution_count": 7,
   "metadata": {},
   "outputs": [
    {
     "data": {
      "image/png": "[encoded data removed]",
      "text/plain": [
       "<Figure size 640x480 with 1 Axes>"
      ]
     },
     "metadata": {},
     "output_type": "display_data"
    }
   ],
   "source": [
    "mat.scatter(x = dataset[\"x\"], y = dataset[\"y\"])\n",
    "mat.scatter(x = dataset[\"x\"], y = dataset[\"p\"])\n",
    "\n",
    "mat.xlabel(\"X Variable\")\n",
    "mat.ylabel(\"Y Variable\")\n",
    "mat.legend(labels = [\"Data points\", \"Best fit line\"])\n",
    "mat.show()\n"
   ]
  },
  {
   "attachments": {},
   "cell_type": "markdown",
   "metadata": {},
   "source": [
    "<font size = \"5\" >\n",
    "\n",
    "Try it yourself\n",
    "\n",
    "- Create a new dataset called $\\quad$```subset_above2``` \n",
    "- This subsets records with $y \\ge 2$ using $\\quad$```.query()```\n",
    "- Count the original rows $\\quad$ ```len(dataset)```\n",
    "- Count the subsetted rows $\\quad$ ```len(subset_above2)```\n",
    "- Compute the proportion of subsetted observations\n"
   ]
  },
  {
   "cell_type": "code",
   "execution_count": 11,
   "metadata": {},
   "outputs": [
    {
     "name": "stdout",
     "output_type": "stream",
     "text": [
      "50\n",
      "21\n",
      "0.42\n"
     ]
    }
   ],
   "source": [
    "# Write your own code here\n",
    "subset_above2= dataset.query(\"y >= 2\")\n",
    "print(len(dataset))\n",
    "print(len(subset_above2))\n",
    "print(len(subset_above2)/len(dataset))\n"
   ]
  },
  {
   "attachments": {},
   "cell_type": "markdown",
   "metadata": {},
   "source": [
    "<font size = \"5\">\n",
    "\n",
    "Try it yourself!\n",
    "\n",
    "- Store the sample mean of $y$ as $\\quad$ ```ybar```\n",
    "- Compute the standard deviation of $y$ $\\quad$ ```stdv_sample```\n",
    "- Use ```.query()``` to subset observations that satisfy\n",
    "\n",
    "$ \\qquad abs\\left(y - ybar \\right) \\le stdv\\_sample $\n",
    "\n",
    "$\\quad$ HINT: Use ```.mean()```,$\\text{ }$ ```.std()``` <br>\n",
    "$\\quad$ HINT: Use the globals  $\\ $ ```@xbar```,$\\text{ }$ ```@stdv_sample```"
   ]
  },
  {
   "cell_type": "code",
   "execution_count": 17,
   "metadata": {},
   "outputs": [
    {
     "data": {
      "text/html": [
       "<div>\n",
       "<style scoped>\n",
       "    .dataframe tbody tr th:only-of-type {\n",
       "        vertical-align: middle;\n",
       "    }\n",
       "\n",
       "    .dataframe tbody tr th {\n",
       "        vertical-align: top;\n",
       "    }\n",
       "\n",
       "    .dataframe thead th {\n",
       "        text-align: right;\n",
       "    }\n",
       "</style>\n",
       "<table border=\"1\" class=\"dataframe\">\n",
       "  <thead>\n",
       "    <tr style=\"text-align: right;\">\n",
       "      <th></th>\n",
       "      <th>x</th>\n",
       "      <th>e</th>\n",
       "      <th>y</th>\n",
       "      <th>p</th>\n",
       "    </tr>\n",
       "  </thead>\n",
       "  <tbody>\n",
       "    <tr>\n",
       "      <th>3</th>\n",
       "      <td>0.673606</td>\n",
       "      <td>0.044369</td>\n",
       "      <td>2.391581</td>\n",
       "      <td>2.347212</td>\n",
       "    </tr>\n",
       "    <tr>\n",
       "      <th>4</th>\n",
       "      <td>1.384251</td>\n",
       "      <td>-1.441745</td>\n",
       "      <td>2.326758</td>\n",
       "      <td>3.768503</td>\n",
       "    </tr>\n",
       "    <tr>\n",
       "      <th>6</th>\n",
       "      <td>0.282099</td>\n",
       "      <td>0.784649</td>\n",
       "      <td>2.348846</td>\n",
       "      <td>1.564197</td>\n",
       "    </tr>\n",
       "    <tr>\n",
       "      <th>7</th>\n",
       "      <td>0.298924</td>\n",
       "      <td>-1.489276</td>\n",
       "      <td>0.108573</td>\n",
       "      <td>1.597848</td>\n",
       "    </tr>\n",
       "    <tr>\n",
       "      <th>8</th>\n",
       "      <td>0.288681</td>\n",
       "      <td>0.857166</td>\n",
       "      <td>2.434527</td>\n",
       "      <td>1.577361</td>\n",
       "    </tr>\n",
       "    <tr>\n",
       "      <th>9</th>\n",
       "      <td>0.536677</td>\n",
       "      <td>0.022799</td>\n",
       "      <td>2.096153</td>\n",
       "      <td>2.073354</td>\n",
       "    </tr>\n",
       "    <tr>\n",
       "      <th>10</th>\n",
       "      <td>-0.203213</td>\n",
       "      <td>0.166669</td>\n",
       "      <td>0.760244</td>\n",
       "      <td>0.593574</td>\n",
       "    </tr>\n",
       "    <tr>\n",
       "      <th>11</th>\n",
       "      <td>1.160502</td>\n",
       "      <td>-0.014635</td>\n",
       "      <td>3.306370</td>\n",
       "      <td>3.321005</td>\n",
       "    </tr>\n",
       "    <tr>\n",
       "      <th>13</th>\n",
       "      <td>1.597155</td>\n",
       "      <td>-0.654642</td>\n",
       "      <td>3.539668</td>\n",
       "      <td>4.194311</td>\n",
       "    </tr>\n",
       "    <tr>\n",
       "      <th>14</th>\n",
       "      <td>1.296704</td>\n",
       "      <td>-0.768661</td>\n",
       "      <td>2.824747</td>\n",
       "      <td>3.593409</td>\n",
       "    </tr>\n",
       "    <tr>\n",
       "      <th>16</th>\n",
       "      <td>0.740873</td>\n",
       "      <td>-1.636788</td>\n",
       "      <td>0.844959</td>\n",
       "      <td>2.481747</td>\n",
       "    </tr>\n",
       "    <tr>\n",
       "      <th>17</th>\n",
       "      <td>0.677576</td>\n",
       "      <td>-0.530679</td>\n",
       "      <td>1.824473</td>\n",
       "      <td>2.355152</td>\n",
       "    </tr>\n",
       "    <tr>\n",
       "      <th>18</th>\n",
       "      <td>-1.005508</td>\n",
       "      <td>1.070146</td>\n",
       "      <td>0.059131</td>\n",
       "      <td>-1.011015</td>\n",
       "    </tr>\n",
       "    <tr>\n",
       "      <th>19</th>\n",
       "      <td>-0.290080</td>\n",
       "      <td>0.344976</td>\n",
       "      <td>0.764815</td>\n",
       "      <td>0.419839</td>\n",
       "    </tr>\n",
       "    <tr>\n",
       "      <th>20</th>\n",
       "      <td>-0.210614</td>\n",
       "      <td>0.443895</td>\n",
       "      <td>1.022668</td>\n",
       "      <td>0.578773</td>\n",
       "    </tr>\n",
       "    <tr>\n",
       "      <th>21</th>\n",
       "      <td>-0.274090</td>\n",
       "      <td>-0.574671</td>\n",
       "      <td>-0.122851</td>\n",
       "      <td>0.451820</td>\n",
       "    </tr>\n",
       "    <tr>\n",
       "      <th>22</th>\n",
       "      <td>0.099163</td>\n",
       "      <td>0.379264</td>\n",
       "      <td>1.577590</td>\n",
       "      <td>1.198326</td>\n",
       "    </tr>\n",
       "    <tr>\n",
       "      <th>23</th>\n",
       "      <td>0.432489</td>\n",
       "      <td>-1.050636</td>\n",
       "      <td>0.814343</td>\n",
       "      <td>1.864979</td>\n",
       "    </tr>\n",
       "    <tr>\n",
       "      <th>25</th>\n",
       "      <td>-0.447417</td>\n",
       "      <td>0.439027</td>\n",
       "      <td>0.544192</td>\n",
       "      <td>0.105166</td>\n",
       "    </tr>\n",
       "    <tr>\n",
       "      <th>26</th>\n",
       "      <td>0.284680</td>\n",
       "      <td>0.697335</td>\n",
       "      <td>2.266695</td>\n",
       "      <td>1.569360</td>\n",
       "    </tr>\n",
       "    <tr>\n",
       "      <th>28</th>\n",
       "      <td>0.799806</td>\n",
       "      <td>-0.752597</td>\n",
       "      <td>1.847015</td>\n",
       "      <td>2.599613</td>\n",
       "    </tr>\n",
       "    <tr>\n",
       "      <th>29</th>\n",
       "      <td>0.544454</td>\n",
       "      <td>0.322392</td>\n",
       "      <td>2.411300</td>\n",
       "      <td>2.088908</td>\n",
       "    </tr>\n",
       "    <tr>\n",
       "      <th>32</th>\n",
       "      <td>-0.048378</td>\n",
       "      <td>-1.010232</td>\n",
       "      <td>-0.106987</td>\n",
       "      <td>0.903245</td>\n",
       "    </tr>\n",
       "    <tr>\n",
       "      <th>34</th>\n",
       "      <td>0.602358</td>\n",
       "      <td>0.504728</td>\n",
       "      <td>2.709444</td>\n",
       "      <td>2.204716</td>\n",
       "    </tr>\n",
       "    <tr>\n",
       "      <th>36</th>\n",
       "      <td>-1.111584</td>\n",
       "      <td>0.611136</td>\n",
       "      <td>-0.612032</td>\n",
       "      <td>-1.223168</td>\n",
       "    </tr>\n",
       "    <tr>\n",
       "      <th>37</th>\n",
       "      <td>-0.915275</td>\n",
       "      <td>0.122075</td>\n",
       "      <td>-0.708476</td>\n",
       "      <td>-0.830551</td>\n",
       "    </tr>\n",
       "    <tr>\n",
       "      <th>38</th>\n",
       "      <td>-0.979373</td>\n",
       "      <td>0.374604</td>\n",
       "      <td>-0.584143</td>\n",
       "      <td>-0.958747</td>\n",
       "    </tr>\n",
       "    <tr>\n",
       "      <th>40</th>\n",
       "      <td>0.374724</td>\n",
       "      <td>-2.221563</td>\n",
       "      <td>-0.472115</td>\n",
       "      <td>1.749449</td>\n",
       "    </tr>\n",
       "    <tr>\n",
       "      <th>42</th>\n",
       "      <td>0.300674</td>\n",
       "      <td>1.474400</td>\n",
       "      <td>3.075747</td>\n",
       "      <td>1.601347</td>\n",
       "    </tr>\n",
       "    <tr>\n",
       "      <th>43</th>\n",
       "      <td>-0.972027</td>\n",
       "      <td>0.621581</td>\n",
       "      <td>-0.322473</td>\n",
       "      <td>-0.944054</td>\n",
       "    </tr>\n",
       "    <tr>\n",
       "      <th>44</th>\n",
       "      <td>-0.920108</td>\n",
       "      <td>1.434864</td>\n",
       "      <td>0.594649</td>\n",
       "      <td>-0.840215</td>\n",
       "    </tr>\n",
       "    <tr>\n",
       "      <th>45</th>\n",
       "      <td>0.618703</td>\n",
       "      <td>-0.513568</td>\n",
       "      <td>1.723838</td>\n",
       "      <td>2.237406</td>\n",
       "    </tr>\n",
       "    <tr>\n",
       "      <th>47</th>\n",
       "      <td>1.060341</td>\n",
       "      <td>-0.800280</td>\n",
       "      <td>2.320402</td>\n",
       "      <td>3.120682</td>\n",
       "    </tr>\n",
       "    <tr>\n",
       "      <th>49</th>\n",
       "      <td>-0.918785</td>\n",
       "      <td>0.488929</td>\n",
       "      <td>-0.348642</td>\n",
       "      <td>-0.837570</td>\n",
       "    </tr>\n",
       "  </tbody>\n",
       "</table>\n",
       "</div>"
      ],
      "text/plain": [
       "           x         e         y         p\n",
       "3   0.673606  0.044369  2.391581  2.347212\n",
       "4   1.384251 -1.441745  2.326758  3.768503\n",
       "6   0.282099  0.784649  2.348846  1.564197\n",
       "7   0.298924 -1.489276  0.108573  1.597848\n",
       "8   0.288681  0.857166  2.434527  1.577361\n",
       "9   0.536677  0.022799  2.096153  2.073354\n",
       "10 -0.203213  0.166669  0.760244  0.593574\n",
       "11  1.160502 -0.014635  3.306370  3.321005\n",
       "13  1.597155 -0.654642  3.539668  4.194311\n",
       "14  1.296704 -0.768661  2.824747  3.593409\n",
       "16  0.740873 -1.636788  0.844959  2.481747\n",
       "17  0.677576 -0.530679  1.824473  2.355152\n",
       "18 -1.005508  1.070146  0.059131 -1.011015\n",
       "19 -0.290080  0.344976  0.764815  0.419839\n",
       "20 -0.210614  0.443895  1.022668  0.578773\n",
       "21 -0.274090 -0.574671 -0.122851  0.451820\n",
       "22  0.099163  0.379264  1.577590  1.198326\n",
       "23  0.432489 -1.050636  0.814343  1.864979\n",
       "25 -0.447417  0.439027  0.544192  0.105166\n",
       "26  0.284680  0.697335  2.266695  1.569360\n",
       "28  0.799806 -0.752597  1.847015  2.599613\n",
       "29  0.544454  0.322392  2.411300  2.088908\n",
       "32 -0.048378 -1.010232 -0.106987  0.903245\n",
       "34  0.602358  0.504728  2.709444  2.204716\n",
       "36 -1.111584  0.611136 -0.612032 -1.223168\n",
       "37 -0.915275  0.122075 -0.708476 -0.830551\n",
       "38 -0.979373  0.374604 -0.584143 -0.958747\n",
       "40  0.374724 -2.221563 -0.472115  1.749449\n",
       "42  0.300674  1.474400  3.075747  1.601347\n",
       "43 -0.972027  0.621581 -0.322473 -0.944054\n",
       "44 -0.920108  1.434864  0.594649 -0.840215\n",
       "45  0.618703 -0.513568  1.723838  2.237406\n",
       "47  1.060341 -0.800280  2.320402  3.120682\n",
       "49 -0.918785  0.488929 -0.348642 -0.837570"
      ]
     },
     "execution_count": 17,
     "metadata": {},
     "output_type": "execute_result"
    }
   ],
   "source": [
    "# Note: abs(...) is the absolute value function\n",
    "# Write your own code \n",
    "ybar = dataset[\"y\"].mean()\n",
    "stdv_sample= dataset[\"y\"].std()\n",
    "dataset.query(\"abs(y-@ybar)<=@stdv_sample\")\n",
    "\n"
   ]
  },
  {
   "attachments": {},
   "cell_type": "markdown",
   "metadata": {},
   "source": [
    "# <span style=\"color:darkblue\"> II. Estimate the best fit line</span>\n"
   ]
  },
  {
   "attachments": {},
   "cell_type": "markdown",
   "metadata": {},
   "source": [
    "<font size = \"5\">\n",
    "\n",
    "We have data on $(y,x)$ but we don't know $(b_0,b_1)$"
   ]
  },
  {
   "attachments": {},
   "cell_type": "markdown",
   "metadata": {},
   "source": [
    "<font size = \"5\">\n",
    "\n",
    "Let's fit an OLS model\n",
    "\n",
    "- It's a statistical approach to get $(b_0,b_1)$\n",
    "- No need to know how it works but why we want it"
   ]
  },
  {
   "cell_type": "code",
   "execution_count": 18,
   "metadata": {},
   "outputs": [],
   "source": [
    "#------------------------------------------------------------------------------#\n",
    "# We use the subfunction \"ols()\" in the library \"smf\"\n",
    "#---- (i) The first argument is a string called \"formula\" with the format \n",
    "#-------- \"outcome ~ indepdent_vars\"\n",
    "#----(ii) the second argument is the dataset\n",
    "# The second line fits the model with standard errors \"cov\". In this case we \n",
    "# use \"robust\" standard errors (HC1)\n",
    "#-------------------------------------------------------------------------------#\n",
    "\n",
    "model   = smf.ols(formula = 'y ~  x',data = dataset)\n",
    "results = model.fit(cov = \"HC1\")\n",
    "\n",
    "# Can also run as one line\n",
    "# results = smf.ols(formula = 'y ~ x',data = dataset).fit(cov = \"HC1\")\n"
   ]
  },
  {
   "attachments": {},
   "cell_type": "markdown",
   "metadata": {},
   "source": [
    "<font size = \"5\">\n",
    "\n",
    "Compute the estimated best fit line"
   ]
  },
  {
   "cell_type": "code",
   "execution_count": 19,
   "metadata": {},
   "outputs": [
    {
     "name": "stdout",
     "output_type": "stream",
     "text": [
      "Intercept    1.115016\n",
      "x            1.838487\n",
      "dtype: float64\n"
     ]
    }
   ],
   "source": [
    "# We will use \".params\" to get the attribute \"parameters from the results\"\n",
    "\n",
    "b_list = results.params\n",
    "print(b_list)\n",
    "\n",
    "# We can then compute the \"estimated\" best fit lines\n",
    "# by extracting the intercept and slop from \"b_list\"\n",
    "\n",
    "dataset[\"p_estimated\"] = b_list[0] + b_list[1]  * dataset[\"x\"]\n",
    "\n",
    "# Note: The estimators for \"b0\" and \"b1\" are close to \n",
    "# the values we used to generate the data\n"
   ]
  },
  {
   "attachments": {},
   "cell_type": "markdown",
   "metadata": {},
   "source": [
    "<font size = \"5\">\n",
    "\n",
    "Plot the best fit line"
   ]
  },
  {
   "cell_type": "code",
   "execution_count": 20,
   "metadata": {},
   "outputs": [
    {
     "data": {
      "image/png": "[encoded data removed]",
      "text/plain": [
       "<Figure size 640x480 with 1 Axes>"
      ]
     },
     "metadata": {},
     "output_type": "display_data"
    }
   ],
   "source": [
    "# Use scatter twice, with different \"y\" inputs\n",
    "# THe \"legend\" command creates a box on with the color labels\n",
    "\n",
    "mat.scatter(x = dataset[\"x\"],y = dataset[\"y\"])\n",
    "mat.scatter(x = dataset[\"x\"],y = dataset[\"p_estimated\"])\n",
    "mat.legend(labels = [\"Data points\",\"Estimated Predicted Model\"])\n",
    "mat.show()\n"
   ]
  },
  {
   "attachments": {},
   "cell_type": "markdown",
   "metadata": {},
   "source": [
    "<font size = \"5\">\n",
    "\n",
    "Try it yourself!\n",
    "- How good is the estimated fit?\n",
    "- Create two overlapping scatterplots\n",
    "- $(p \\text{ }$ vs $\\text{ } x)$ and $(p_{estimated} \\text{ }$ vs $\\text{ } x)$\n",
    "- Create a legend to label each plot"
   ]
  },
  {
   "cell_type": "code",
   "execution_count": 21,
   "metadata": {},
   "outputs": [
    {
     "data": {
      "image/png": "[encoded data removed]",
      "text/plain": [
       "<Figure size 640x480 with 1 Axes>"
      ]
     },
     "metadata": {},
     "output_type": "display_data"
    }
   ],
   "source": [
    "# Write your own code\n",
    "mat.scatter(x = dataset[\"x\"],y = dataset[\"p\"])\n",
    "mat.scatter(x = dataset[\"x\"],y = dataset[\"p_estimated\"])\n",
    "mat.legend(labels = [\"Data points\",\"Estimated Predicted Model\"])\n",
    "mat.show()\n",
    "\n",
    "\n",
    "\n",
    "\n"
   ]
  },
  {
   "attachments": {},
   "cell_type": "markdown",
   "metadata": {},
   "source": [
    "<font size = \"5\">\n",
    "\n",
    "Try it youself\n",
    "\n",
    "- Compute a column with the formula\n",
    "\n",
    "$\\quad$ ``` sample_error = y - p_estimated```\n",
    "\n",
    "- Create a lambda function <br>\n",
    "\n",
    "$\\quad$ ``` fn_positive_error  error: error >= 0  ```\n",
    "\n",
    "- Compute a column for whether the error is positive <br>\n",
    "using ``` .apply()```\n",
    "\n"
   ]
  },
  {
   "cell_type": "code",
   "execution_count": 28,
   "metadata": {},
   "outputs": [],
   "source": [
    "# Write your own code\n",
    "dataset[\"sample_error\"]=dataset[\"y\"]-dataset[\"p_estimated\"]\n",
    "fn_positive_error=lambda error: error>= 0\n",
    "dataset[\"Error\"]=dataset[\"sample_error\"].apply(fn_positive_error)\n",
    "\n"
   ]
  },
  {
   "attachments": {},
   "cell_type": "markdown",
   "metadata": {},
   "source": [
    "<font size = \"5\">\n",
    "\n",
    "Try it yourself\n",
    "\n",
    "- Compute a new column <br>\n",
    "\n",
    "```error_sqr = sample_error ** 2```\n",
    "\n",
    "- Calculate the mean of ```error_sqr```"
   ]
  },
  {
   "cell_type": "code",
   "execution_count": 27,
   "metadata": {},
   "outputs": [
    {
     "name": "stdout",
     "output_type": "stream",
     "text": [
      "1.0593135155811688\n"
     ]
    }
   ],
   "source": [
    "# Write your own code\n",
    "dataset[\"error_sqr\"]=dataset[\"sample_error\"]**2\n",
    "\n",
    "print(dataset[\"error_sqr\"].mean())\n",
    "\n",
    "\n"
   ]
  }
 ],
 "metadata": {
  "kernelspec": {
   "display_name": "Python 3",
   "language": "python",
   "name": "python3"
  },
  "language_info": {
   "codemirror_mode": {
    "name": "ipython",
    "version": 3
   },
   "file_extension": ".py",
   "mimetype": "text/x-python",
   "name": "python",
   "nbconvert_exporter": "python",
   "pygments_lexer": "ipython3",
   "version": "3.11.1"
  },
  "orig_nbformat": 4,
  "vscode": {
   "interpreter": {
    "hash": "2b050dd3383c04f269122a8ffe51f7120e96f2600100197dfb35ec75618b8d5b"
   }
  }
 },
 "nbformat": 4,
 "nbformat_minor": 2
}
